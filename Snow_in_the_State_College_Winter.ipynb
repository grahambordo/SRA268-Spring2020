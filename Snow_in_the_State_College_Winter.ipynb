{
  "nbformat": 4,
  "nbformat_minor": 0,
  "metadata": {
    "colab": {
      "name": "Snow in the State College Winter",
      "provenance": [],
      "toc_visible": true
    },
    "kernelspec": {
      "name": "python3",
      "display_name": "Python 3"
    }
  },
  "cells": [
    {
      "cell_type": "markdown",
      "metadata": {
        "id": "fuF1gH1Tfilk",
        "colab_type": "text"
      },
      "source": [
        "### Snow in the State College Winter\n",
        "\n",
        "\n",
        "\n",
        "\n",
        "\n",
        "\n",
        "\n",
        "\n"
      ]
    },
    {
      "cell_type": "markdown",
      "metadata": {
        "id": "P0mJ20v9iOr_",
        "colab_type": "text"
      },
      "source": [
        "### Description\n",
        "The sketch depicts the amount of snowfall throughout the winter of State College from 2017-2019. The y-axis is the snowfall amount in inches and the x-axis shows the months of January, February, March, and December. The amount of snowfall during the month for each year is compared together with a key showing which colum represents what year. December 2019 is not included in the graph because the data was not avaiable. "
      ]
    },
    {
      "cell_type": "markdown",
      "metadata": {
        "id": "hGVvHZdDAqK-",
        "colab_type": "text"
      },
      "source": [
        "### Graph of Snowfall Amounts in Winter Months\n"
      ]
    },
    {
      "cell_type": "markdown",
      "metadata": {
        "id": "HDLleuhB7Xb9",
        "colab_type": "text"
      },
      "source": [
        "![image Graph Sketch](https://github.com/grahambordo/SRA268-Spring2020/blob/master/images/State%20College%20Snow%20Graph.jpg?raw=true)\n",
        "\n",
        "\n"
      ]
    },
    {
      "cell_type": "markdown",
      "metadata": {
        "id": "NLOfeGbPii-v",
        "colab_type": "text"
      },
      "source": [
        "### Conclusions\n",
        "The graph compares the changes in snowfall throughout the winter months of each year in State College, PA. Overall, February contains the greatest amount of snow during the winter. Surprisingly, March of 2017 had the most snowfall of any month at 16.3 inches of snow. The least amount of snow at Penn State occurred in December 2018 with only .2 inches of snow. "
      ]
    }
  ]
}