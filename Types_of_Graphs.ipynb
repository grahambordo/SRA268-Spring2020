{
  "nbformat": 4,
  "nbformat_minor": 0,
  "metadata": {
    "colab": {
      "name": "Types of Graphs",
      "provenance": []
    },
    "kernelspec": {
      "name": "python3",
      "display_name": "Python 3"
    }
  },
  "cells": [
    {
      "cell_type": "markdown",
      "metadata": {
        "id": "6sOc4Uyr4U-Z",
        "colab_type": "text"
      },
      "source": [
        "## Graph Types"
      ]
    },
    {
      "cell_type": "markdown",
      "metadata": {
        "id": "0zZdVLAd5CYr",
        "colab_type": "text"
      },
      "source": [
        "Creator\n",
        "* Graham Bordo"
      ]
    },
    {
      "cell_type": "markdown",
      "metadata": {
        "id": "g-r6Clq45Hn4",
        "colab_type": "text"
      },
      "source": [
        "### Deviation\n"
      ]
    },
    {
      "cell_type": "markdown",
      "metadata": {
        "id": "2gorxo6E7A0t",
        "colab_type": "text"
      },
      "source": [
        "![alt text](https://raw.githubusercontent.com/grahambordo/SRA268-Spring2020/master/Deviation.png)"
      ]
    },
    {
      "cell_type": "markdown",
      "metadata": {
        "id": "w6bZ_NEi7E3w",
        "colab_type": "text"
      },
      "source": [
        "#### What is this telling us?"
      ]
    },
    {
      "cell_type": "markdown",
      "metadata": {
        "id": "95L-spaC7QHF",
        "colab_type": "text"
      },
      "source": [
        "The deviation graph compares the number of wins in points to the years for the X and Y region. The diverging bar graph shows the sum of the wins for each region from 2000 through 2017 by starting the two bars in the middle and going in the opposite direction. The red and blue colors highlight the deviation between each region. The point totals for the X and Y region are displayed in the middle of each graph. The values allow the viewer to visually compare the regions and obtain the specific point totals for each year. The diverging bar graph also simplifies the graph by removing the need for x-axis of values. "
      ]
    },
    {
      "cell_type": "markdown",
      "metadata": {
        "id": "YgXyXjmz7cDP",
        "colab_type": "text"
      },
      "source": [
        "### Correlation\n"
      ]
    },
    {
      "cell_type": "markdown",
      "metadata": {
        "id": "SGx15rZq7hvt",
        "colab_type": "text"
      },
      "source": [
        "![alt text](https://raw.githubusercontent.com/grahambordo/SRA268-Spring2020/master/Correlation.png)"
      ]
    },
    {
      "cell_type": "markdown",
      "metadata": {
        "id": "dljjONNi7jmj",
        "colab_type": "text"
      },
      "source": [
        "#### What is this telling us?"
      ]
    },
    {
      "cell_type": "markdown",
      "metadata": {
        "id": "PwZEZrFB7laG",
        "colab_type": "text"
      },
      "source": [
        "The scatterplot correlation graph depicts the average number of points from 1985 through 2018 for regions X and Y. The scatterplot is the standard way to demonstrate the relationship between the two continuous variables, which are the years and number of points. The dark blue and red colors representing each region easily show the average wins for each year. The relationship throughout the years are distinguished in the graph through the blue and red color and the small dots for each value. Another advantage of the scatterplot is that the range of data or the maximum and minimum, in terms of average points, are clear to the viewer. "
      ]
    },
    {
      "cell_type": "markdown",
      "metadata": {
        "id": "MqUdI-uL7r2s",
        "colab_type": "text"
      },
      "source": [
        "### Ranking\n"
      ]
    },
    {
      "cell_type": "markdown",
      "metadata": {
        "id": "AvlxCOVt7x9F",
        "colab_type": "text"
      },
      "source": [
        "![alt text](https://raw.githubusercontent.com/grahambordo/SRA268-Spring2020/master/Ranking.png)"
      ]
    },
    {
      "cell_type": "markdown",
      "metadata": {
        "id": "lCAYtfza7yTq",
        "colab_type": "text"
      },
      "source": [
        "#### What is this telling us?"
      ]
    },
    {
      "cell_type": "markdown",
      "metadata": {
        "id": "MyuciD277ygU",
        "colab_type": "text"
      },
      "source": [
        "The ordered column displays the amount of points within the X region for the top ten years in descending order. The x-axis is ordered from greatest to least, giving the viewer a ranking of the columns. The main retinal variable is the use of color, a unified dark blue for the columns, that easily enables the viewer to recognize the ordering and number of points. The advantage of the ordered column bar chart is how the trends are clarified between the two quantitative variables. The graph ranks the ten years of the X region with the most points in a simple and explicit manner. "
      ]
    },
    {
      "cell_type": "markdown",
      "metadata": {
        "id": "dGDGl8-G7y8Y",
        "colab_type": "text"
      },
      "source": [
        "### Distribution\n"
      ]
    },
    {
      "cell_type": "markdown",
      "metadata": {
        "id": "FB0uV-jy76p9",
        "colab_type": "text"
      },
      "source": [
        "![alt text](https://raw.githubusercontent.com/grahambordo/SRA268-Spring2020/master/Distribution.png)"
      ]
    },
    {
      "cell_type": "markdown",
      "metadata": {
        "id": "_6SOzhrQ76zH",
        "colab_type": "text"
      },
      "source": [
        "#### What is this telling us?"
      ]
    },
    {
      "cell_type": "markdown",
      "metadata": {
        "id": "HBWqsS_g767h",
        "colab_type": "text"
      },
      "source": [
        "The box and whisker plot summarizes the median, range, and spread for the the overall points of five different colleges. The upper and lower quartiles in each box present the 25th and 75th percentiles. The viewer is able to compare the success of each college by looking at the points of every program throughout the years and the overall distribution. The visual uses dark and light gray shading to construct the box and dark blue dots for the range. The box and whisker plot is large and spaced enough where the point values are transparent. Appropriate for the purpose of the grpah, the lack of color focuses on the data and the different statistics of the box plot. "
      ]
    },
    {
      "cell_type": "markdown",
      "metadata": {
        "id": "wQsDThk677Fy",
        "colab_type": "text"
      },
      "source": [
        "### Change over Time\n"
      ]
    },
    {
      "cell_type": "markdown",
      "metadata": {
        "id": "Z1j_YLOA7_OK",
        "colab_type": "text"
      },
      "source": [
        "![alt text](https://raw.githubusercontent.com/grahambordo/SRA268-Spring2020/master/Change%20Over%20Time.png)"
      ]
    },
    {
      "cell_type": "markdown",
      "metadata": {
        "id": "mpfsmmgi7_Vj",
        "colab_type": "text"
      },
      "source": [
        "#### What is this telling us?"
      ]
    },
    {
      "cell_type": "markdown",
      "metadata": {
        "id": "rYLXoMMO7_di",
        "colab_type": "text"
      },
      "source": [
        "The line graph depicts the number of points the Buckeyes had from 2010 through 2013. The change over time clearly shows the trend of the two quantitative variables: points and years. The retinal variables in the visual are basic and simple, but enable the viewer to understand the trend without clutter. The sharp red stands out and matches with the Buckeye's color. The line doesn't have markers because the purpose of the graph is for the viewer to comprehend the change of the data and not the individual values. The line graph is easy to read and presents the trend in an efficient manner. "
      ]
    },
    {
      "cell_type": "markdown",
      "metadata": {
        "id": "lFwiHoE-7_jZ",
        "colab_type": "text"
      },
      "source": [
        "### Magnitude\n"
      ]
    },
    {
      "cell_type": "markdown",
      "metadata": {
        "id": "ICQFnXj78EbF",
        "colab_type": "text"
      },
      "source": [
        "![alt text](https://raw.githubusercontent.com/grahambordo/SRA268-Spring2020/master/Magnitude.png)"
      ]
    },
    {
      "cell_type": "markdown",
      "metadata": {
        "id": "QGG7XYG88Eii",
        "colab_type": "text"
      },
      "source": [
        "#### What is this telling us?"
      ]
    },
    {
      "cell_type": "markdown",
      "metadata": {
        "id": "VS7uGa0l8Eos",
        "colab_type": "text"
      },
      "source": [
        "The bar graph displays the number of points per season for three college teams from 2010 to 2017. The viewer can compare the skill of each team from 2010 and on. How the visual shows the data in a frequency distribution, summarizes the large data set, and estimates key values upfront are the advantages of the bar graph. The retinal variables of color, size, and shape permit the data to be easily compared. The horizontal bars that are defined by the schools' color allow the viewer to analyze the strength of a team against the other teams during a specific season. The stark difference between the color of the bars, the red, green, and blue, is visually attractive and clearly separates the teams. "
      ]
    },
    {
      "cell_type": "markdown",
      "metadata": {
        "id": "bEKFxP8R8Evk",
        "colab_type": "text"
      },
      "source": [
        "### Part-to-Whole\n"
      ]
    },
    {
      "cell_type": "markdown",
      "metadata": {
        "id": "WFHlcYKV8E35",
        "colab_type": "text"
      },
      "source": [
        "![alt text](https://raw.githubusercontent.com/grahambordo/SRA268-Spring2020/master/Part-to-Whole.png)"
      ]
    },
    {
      "cell_type": "markdown",
      "metadata": {
        "id": "PNSd3wlp8UZH",
        "colab_type": "text"
      },
      "source": [
        "#### What is this telling us?"
      ]
    },
    {
      "cell_type": "markdown",
      "metadata": {
        "id": "y9tb_QRA8aqt",
        "colab_type": "text"
      },
      "source": [
        "The pie graph compares the amount of points the Buckeyes, Fighting Irish, and Mountaineers had in the 2015 season. Viewers are able to immediatly compare the teams for that year at first glance. The purpose of the pie chart is to analyze the quality of each team for the 2015 season; not to emphasize the exact number of points each team achieved. The shape of the chart and individual colors give the viewer a direct impression of who had the best season. The sharp difference between the blue, red, and green colors simplify the visualization, clearly define the teams, and are visually appealing. "
      ]
    }
  ]
}